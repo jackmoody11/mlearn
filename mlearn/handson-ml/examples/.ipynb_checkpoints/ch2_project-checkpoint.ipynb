{
 "cells": [
  {
   "cell_type": "code",
   "execution_count": null,
   "metadata": {},
   "outputs": [],
   "source": [
    "import pandas as pd\n",
    "import os\n",
    "datapath = os.getcwd() + \"/../datasets/\"\n",
    "HOUSING_PATH = datapath + \"housing.csv\"\n",
    "def load_housing_data(housing_path=HOUSING_PATH):\n",
    "    return pd.read_csv(housing_path)\n",
    "\n",
    "housing = load_housing_data()\n",
    "print(housing.head())"
   ]
  }
 ],
 "metadata": {
  "kernelspec": {
   "display_name": "Python 3",
   "language": "python",
   "name": "python3"
  },
  "language_info": {
   "codemirror_mode": {
    "name": "ipython",
    "version": 3
   },
   "file_extension": ".py",
   "mimetype": "text/x-python",
   "name": "python",
   "nbconvert_exporter": "python",
   "pygments_lexer": "ipython3",
   "version": "3.7.2"
  }
 },
 "nbformat": 4,
 "nbformat_minor": 2
}
